{
 "metadata": {
  "language_info": {
   "codemirror_mode": {
    "name": "ipython",
    "version": 3
   },
   "file_extension": ".py",
   "mimetype": "text/x-python",
   "name": "python",
   "nbconvert_exporter": "python",
   "pygments_lexer": "ipython3",
   "version": "3.6.9"
  },
  "orig_nbformat": 2,
  "kernelspec": {
   "name": "python369jvsc74a57bd0b9e1d6b1e0523e89dceab8d940b4cb98159ed31352040023f59e1d0f208a8d1b",
   "display_name": "Python 3.6.9 64-bit ('venv': venv)"
  },
  "metadata": {
   "interpreter": {
    "hash": "b9e1d6b1e0523e89dceab8d940b4cb98159ed31352040023f59e1d0f208a8d1b"
   }
  }
 },
 "nbformat": 4,
 "nbformat_minor": 2,
 "cells": [
  {
   "cell_type": "code",
   "execution_count": 1,
   "metadata": {},
   "outputs": [
    {
     "output_type": "stream",
     "name": "stdout",
     "text": [
      "VIRTUAL_ENV=/media/bigalex95pc/Extra Space/git/python_tutorials/Pandas/venv\n"
     ]
    }
   ],
   "source": [
    "!env | grep VIRTUAL_ENV"
   ]
  },
  {
   "cell_type": "code",
   "execution_count": 2,
   "metadata": {},
   "outputs": [],
   "source": [
    "import pandas as pd"
   ]
  },
  {
   "cell_type": "code",
   "execution_count": 3,
   "metadata": {},
   "outputs": [
    {
     "output_type": "stream",
     "name": "stdout",
     "text": [
      "1.1.5\n"
     ]
    }
   ],
   "source": [
    "print(pd.__version__)"
   ]
  },
  {
   "source": [
    "# Data Cleaning\n",
    "Data cleaning means fixing bad data in your data set.\n",
    "\n",
    "Bad data could be:\n",
    "\n",
    "Empty cells\n",
    "Data in wrong format\n",
    "Wrong data\n",
    "Duplicates\n",
    "In this tutorial you will learn how to deal with all of them."
   ],
   "cell_type": "markdown",
   "metadata": {}
  },
  {
   "source": [
    "# Empty Cells\n",
    "Empty cells can potentially give you a wrong result when you analyze data.\n",
    "\n",
    "## Remove Rows\n",
    "One way to deal with empty cells is to remove rows that contain empty cells.\n",
    "\n",
    "This is usually OK, since data sets can be very big, and removing a few rows will not have a big impact on the result.\n",
    "\n",
    "In our cleaning examples we will be using a CSV file called 'dirtydata.csv'.\n",
    "\n",
    "Download [dirtydata.csv](https://www.w3schools.com/python/pandas/dirtydata.csv)."
   ],
   "cell_type": "markdown",
   "metadata": {}
  },
  {
   "cell_type": "code",
   "execution_count": 4,
   "metadata": {},
   "outputs": [
    {
     "output_type": "stream",
     "name": "stdout",
     "text": [
      "    Duration          Date  Pulse  Maxpulse  Calories\n0         60  '2020/12/01'    110       130     409.1\n1         60  '2020/12/02'    117       145     479.0\n2         60  '2020/12/03'    103       135     340.0\n3         45  '2020/12/04'    109       175     282.4\n4         45  '2020/12/05'    117       148     406.0\n5         60  '2020/12/06'    102       127     300.0\n6         60  '2020/12/07'    110       136     374.0\n7        450  '2020/12/08'    104       134     253.3\n8         30  '2020/12/09'    109       133     195.1\n9         60  '2020/12/10'     98       124     269.0\n10        60  '2020/12/11'    103       147     329.3\n11        60  '2020/12/12'    100       120     250.7\n12        60  '2020/12/12'    100       120     250.7\n13        60  '2020/12/13'    106       128     345.3\n14        60  '2020/12/14'    104       132     379.3\n15        60  '2020/12/15'     98       123     275.0\n16        60  '2020/12/16'     98       120     215.2\n17        60  '2020/12/17'    100       120     300.0\n18        45  '2020/12/18'     90       112       NaN\n19        60  '2020/12/19'    103       123     323.0\n20        45  '2020/12/20'     97       125     243.0\n21        60  '2020/12/21'    108       131     364.2\n22        45           NaN    100       119     282.0\n23        60  '2020/12/23'    130       101     300.0\n24        45  '2020/12/24'    105       132     246.0\n25        60  '2020/12/25'    102       126     334.5\n26        60      20201226    100       120     250.0\n27        60  '2020/12/27'     92       118     241.0\n28        60  '2020/12/28'    103       132       NaN\n29        60  '2020/12/29'    100       132     280.0\n30        60  '2020/12/30'    102       129     380.3\n31        60  '2020/12/31'     92       115     243.0\n----------------------------------------------------------------------\n    Duration          Date  Pulse  Maxpulse  Calories\n0         60  '2020/12/01'    110       130     409.1\n1         60  '2020/12/02'    117       145     479.0\n2         60  '2020/12/03'    103       135     340.0\n3         45  '2020/12/04'    109       175     282.4\n4         45  '2020/12/05'    117       148     406.0\n5         60  '2020/12/06'    102       127     300.0\n6         60  '2020/12/07'    110       136     374.0\n7        450  '2020/12/08'    104       134     253.3\n8         30  '2020/12/09'    109       133     195.1\n9         60  '2020/12/10'     98       124     269.0\n10        60  '2020/12/11'    103       147     329.3\n11        60  '2020/12/12'    100       120     250.7\n12        60  '2020/12/12'    100       120     250.7\n13        60  '2020/12/13'    106       128     345.3\n14        60  '2020/12/14'    104       132     379.3\n15        60  '2020/12/15'     98       123     275.0\n16        60  '2020/12/16'     98       120     215.2\n17        60  '2020/12/17'    100       120     300.0\n19        60  '2020/12/19'    103       123     323.0\n20        45  '2020/12/20'     97       125     243.0\n21        60  '2020/12/21'    108       131     364.2\n23        60  '2020/12/23'    130       101     300.0\n24        45  '2020/12/24'    105       132     246.0\n25        60  '2020/12/25'    102       126     334.5\n26        60      20201226    100       120     250.0\n27        60  '2020/12/27'     92       118     241.0\n29        60  '2020/12/29'    100       132     280.0\n30        60  '2020/12/30'    102       129     380.3\n31        60  '2020/12/31'     92       115     243.0\n"
     ]
    }
   ],
   "source": [
    "df = pd.read_csv('dirtydata.csv')\n",
    "\n",
    "new_df = df.dropna()\n",
    "\n",
    "print(df.to_string())\n",
    "print(\"-\"*70)\n",
    "print(new_df.to_string())"
   ]
  },
  {
   "source": [
    "### Note: By default, the dropna() method returns a new DataFrame, and will not change the original.\n",
    "\n",
    "If you want to change the original DataFrame, use the inplace = True argument:"
   ],
   "cell_type": "markdown",
   "metadata": {}
  },
  {
   "cell_type": "code",
   "execution_count": 5,
   "metadata": {},
   "outputs": [
    {
     "output_type": "stream",
     "name": "stdout",
     "text": [
      "    Duration          Date  Pulse  Maxpulse  Calories\n0         60  '2020/12/01'    110       130     409.1\n1         60  '2020/12/02'    117       145     479.0\n2         60  '2020/12/03'    103       135     340.0\n3         45  '2020/12/04'    109       175     282.4\n4         45  '2020/12/05'    117       148     406.0\n5         60  '2020/12/06'    102       127     300.0\n6         60  '2020/12/07'    110       136     374.0\n7        450  '2020/12/08'    104       134     253.3\n8         30  '2020/12/09'    109       133     195.1\n9         60  '2020/12/10'     98       124     269.0\n10        60  '2020/12/11'    103       147     329.3\n11        60  '2020/12/12'    100       120     250.7\n12        60  '2020/12/12'    100       120     250.7\n13        60  '2020/12/13'    106       128     345.3\n14        60  '2020/12/14'    104       132     379.3\n15        60  '2020/12/15'     98       123     275.0\n16        60  '2020/12/16'     98       120     215.2\n17        60  '2020/12/17'    100       120     300.0\n19        60  '2020/12/19'    103       123     323.0\n20        45  '2020/12/20'     97       125     243.0\n21        60  '2020/12/21'    108       131     364.2\n23        60  '2020/12/23'    130       101     300.0\n24        45  '2020/12/24'    105       132     246.0\n25        60  '2020/12/25'    102       126     334.5\n26        60      20201226    100       120     250.0\n27        60  '2020/12/27'     92       118     241.0\n29        60  '2020/12/29'    100       132     280.0\n30        60  '2020/12/30'    102       129     380.3\n31        60  '2020/12/31'     92       115     243.0\n"
     ]
    }
   ],
   "source": [
    "df = pd.read_csv('dirtydata.csv')\n",
    "\n",
    "df.dropna(inplace = True)\n",
    "\n",
    "print(df.to_string())"
   ]
  },
  {
   "source": [
    "### Note: Now, the dropna(inplace = True) will NOT return a new DataFrame, but it will remove all rows containg NULL values from the original DataFrame.\n",
    "\n",
    "## Replace Empty Values\n",
    "Another way of dealing with empty cells is to insert a new value instead.\n",
    "\n",
    "This way you do not have to delete entire rows just because of some empty cells.\n",
    "\n",
    "The fillna() method allows us to replace empty cells with a value:"
   ],
   "cell_type": "markdown",
   "metadata": {}
  },
  {
   "cell_type": "code",
   "execution_count": 7,
   "metadata": {},
   "outputs": [
    {
     "output_type": "stream",
     "name": "stdout",
     "text": [
      "    Duration          Date  Pulse  Maxpulse  Calories\n0         60  '2020/12/01'    110       130     409.1\n1         60  '2020/12/02'    117       145     479.0\n2         60  '2020/12/03'    103       135     340.0\n3         45  '2020/12/04'    109       175     282.4\n4         45  '2020/12/05'    117       148     406.0\n5         60  '2020/12/06'    102       127     300.0\n6         60  '2020/12/07'    110       136     374.0\n7        450  '2020/12/08'    104       134     253.3\n8         30  '2020/12/09'    109       133     195.1\n9         60  '2020/12/10'     98       124     269.0\n10        60  '2020/12/11'    103       147     329.3\n11        60  '2020/12/12'    100       120     250.7\n12        60  '2020/12/12'    100       120     250.7\n13        60  '2020/12/13'    106       128     345.3\n14        60  '2020/12/14'    104       132     379.3\n15        60  '2020/12/15'     98       123     275.0\n16        60  '2020/12/16'     98       120     215.2\n17        60  '2020/12/17'    100       120     300.0\n18        45  '2020/12/18'     90       112     130.0\n19        60  '2020/12/19'    103       123     323.0\n20        45  '2020/12/20'     97       125     243.0\n21        60  '2020/12/21'    108       131     364.2\n22        45           130    100       119     282.0\n23        60  '2020/12/23'    130       101     300.0\n24        45  '2020/12/24'    105       132     246.0\n25        60  '2020/12/25'    102       126     334.5\n26        60      20201226    100       120     250.0\n27        60  '2020/12/27'     92       118     241.0\n28        60  '2020/12/28'    103       132     130.0\n29        60  '2020/12/29'    100       132     280.0\n30        60  '2020/12/30'    102       129     380.3\n31        60  '2020/12/31'     92       115     243.0\n"
     ]
    }
   ],
   "source": [
    "df = pd.read_csv('dirtydata.csv')\n",
    "\n",
    "df.fillna(130, inplace = True)\n",
    "\n",
    "print(df.to_string())"
   ]
  },
  {
   "source": [
    "## Replace Only For a Specified Columns\n",
    "The example above replaces all empty cells in the whole Data Frame.\n",
    "\n",
    "To only replace empty values for one column, specify the column name for the DataFrame:"
   ],
   "cell_type": "markdown",
   "metadata": {}
  },
  {
   "cell_type": "code",
   "execution_count": 9,
   "metadata": {},
   "outputs": [
    {
     "output_type": "stream",
     "name": "stdout",
     "text": [
      "    Duration          Date  Pulse  Maxpulse  Calories\n0         60  '2020/12/01'    110       130     409.1\n1         60  '2020/12/02'    117       145     479.0\n2         60  '2020/12/03'    103       135     340.0\n3         45  '2020/12/04'    109       175     282.4\n4         45  '2020/12/05'    117       148     406.0\n5         60  '2020/12/06'    102       127     300.0\n6         60  '2020/12/07'    110       136     374.0\n7        450  '2020/12/08'    104       134     253.3\n8         30  '2020/12/09'    109       133     195.1\n9         60  '2020/12/10'     98       124     269.0\n10        60  '2020/12/11'    103       147     329.3\n11        60  '2020/12/12'    100       120     250.7\n12        60  '2020/12/12'    100       120     250.7\n13        60  '2020/12/13'    106       128     345.3\n14        60  '2020/12/14'    104       132     379.3\n15        60  '2020/12/15'     98       123     275.0\n16        60  '2020/12/16'     98       120     215.2\n17        60  '2020/12/17'    100       120     300.0\n18        45  '2020/12/18'     90       112     130.0\n19        60  '2020/12/19'    103       123     323.0\n20        45  '2020/12/20'     97       125     243.0\n21        60  '2020/12/21'    108       131     364.2\n22        45           NaN    100       119     282.0\n23        60  '2020/12/23'    130       101     300.0\n24        45  '2020/12/24'    105       132     246.0\n25        60  '2020/12/25'    102       126     334.5\n26        60      20201226    100       120     250.0\n27        60  '2020/12/27'     92       118     241.0\n28        60  '2020/12/28'    103       132     130.0\n29        60  '2020/12/29'    100       132     280.0\n30        60  '2020/12/30'    102       129     380.3\n31        60  '2020/12/31'     92       115     243.0\n"
     ]
    }
   ],
   "source": [
    "df = pd.read_csv('dirtydata.csv')\n",
    "\n",
    "df[\"Calories\"].fillna(130, inplace = True)\n",
    "\n",
    "print(df.to_string())"
   ]
  },
  {
   "source": [
    "## Replace Using Mean, Median, or Mode\n",
    "A common way to replace empty cells, is to calculate the mean, median or mode value of the column.\n",
    "\n",
    "Pandas uses the mean() median() and mode() methods to calculate the respective values for a specified column:"
   ],
   "cell_type": "markdown",
   "metadata": {}
  },
  {
   "cell_type": "code",
   "execution_count": 10,
   "metadata": {},
   "outputs": [
    {
     "output_type": "stream",
     "name": "stdout",
     "text": [
      "    Duration          Date  Pulse  Maxpulse  Calories\n0         60  '2020/12/01'    110       130    409.10\n1         60  '2020/12/02'    117       145    479.00\n2         60  '2020/12/03'    103       135    340.00\n3         45  '2020/12/04'    109       175    282.40\n4         45  '2020/12/05'    117       148    406.00\n5         60  '2020/12/06'    102       127    300.00\n6         60  '2020/12/07'    110       136    374.00\n7        450  '2020/12/08'    104       134    253.30\n8         30  '2020/12/09'    109       133    195.10\n9         60  '2020/12/10'     98       124    269.00\n10        60  '2020/12/11'    103       147    329.30\n11        60  '2020/12/12'    100       120    250.70\n12        60  '2020/12/12'    100       120    250.70\n13        60  '2020/12/13'    106       128    345.30\n14        60  '2020/12/14'    104       132    379.30\n15        60  '2020/12/15'     98       123    275.00\n16        60  '2020/12/16'     98       120    215.20\n17        60  '2020/12/17'    100       120    300.00\n18        45  '2020/12/18'     90       112    304.68\n19        60  '2020/12/19'    103       123    323.00\n20        45  '2020/12/20'     97       125    243.00\n21        60  '2020/12/21'    108       131    364.20\n22        45           NaN    100       119    282.00\n23        60  '2020/12/23'    130       101    300.00\n24        45  '2020/12/24'    105       132    246.00\n25        60  '2020/12/25'    102       126    334.50\n26        60      20201226    100       120    250.00\n27        60  '2020/12/27'     92       118    241.00\n28        60  '2020/12/28'    103       132    304.68\n29        60  '2020/12/29'    100       132    280.00\n30        60  '2020/12/30'    102       129    380.30\n31        60  '2020/12/31'     92       115    243.00\n"
     ]
    }
   ],
   "source": [
    "df = pd.read_csv('dirtydata.csv')\n",
    "\n",
    "x = df[\"Calories\"].mean()\n",
    "\n",
    "df[\"Calories\"].fillna(x, inplace = True)\n",
    "\n",
    "print(df.to_string())"
   ]
  },
  {
   "source": [
    "### Median = the value in the middle, after you have sorted all values ascending."
   ],
   "cell_type": "markdown",
   "metadata": {}
  },
  {
   "cell_type": "code",
   "execution_count": 12,
   "metadata": {},
   "outputs": [
    {
     "output_type": "stream",
     "name": "stdout",
     "text": [
      "    Duration          Date  Pulse  Maxpulse  Calories\n0         60  '2020/12/01'    110       130     409.1\n1         60  '2020/12/02'    117       145     479.0\n2         60  '2020/12/03'    103       135     340.0\n3         45  '2020/12/04'    109       175     282.4\n4         45  '2020/12/05'    117       148     406.0\n5         60  '2020/12/06'    102       127     300.0\n6         60  '2020/12/07'    110       136     374.0\n7        450  '2020/12/08'    104       134     253.3\n8         30  '2020/12/09'    109       133     195.1\n9         60  '2020/12/10'     98       124     269.0\n10        60  '2020/12/11'    103       147     329.3\n11        60  '2020/12/12'    100       120     250.7\n12        60  '2020/12/12'    100       120     250.7\n13        60  '2020/12/13'    106       128     345.3\n14        60  '2020/12/14'    104       132     379.3\n15        60  '2020/12/15'     98       123     275.0\n16        60  '2020/12/16'     98       120     215.2\n17        60  '2020/12/17'    100       120     300.0\n18        45  '2020/12/18'     90       112     300.0\n19        60  '2020/12/19'    103       123     323.0\n20        45  '2020/12/20'     97       125     243.0\n21        60  '2020/12/21'    108       131     364.2\n22        45           NaN    100       119     282.0\n23        60  '2020/12/23'    130       101     300.0\n24        45  '2020/12/24'    105       132     246.0\n25        60  '2020/12/25'    102       126     334.5\n26        60      20201226    100       120     250.0\n27        60  '2020/12/27'     92       118     241.0\n28        60  '2020/12/28'    103       132     300.0\n29        60  '2020/12/29'    100       132     280.0\n30        60  '2020/12/30'    102       129     380.3\n31        60  '2020/12/31'     92       115     243.0\n"
     ]
    }
   ],
   "source": [
    "df = pd.read_csv('dirtydata.csv')\n",
    "\n",
    "x = df[\"Calories\"].mode()[0]\n",
    "\n",
    "df[\"Calories\"].fillna(x, inplace = True)\n",
    "\n",
    "print(df.to_string())"
   ]
  },
  {
   "source": [
    "### Mode = the value that appears most frequently."
   ],
   "cell_type": "markdown",
   "metadata": {}
  },
  {
   "source": [
    "## Data of Wrong Format\n",
    "Cells with data of wrong format can make it difficult, or even impossible, to analyze data.\n",
    "\n",
    "To fix it, you have two options: remove the rows, or convert all cells in the columns into the same format.\n",
    "\n",
    "## Convert Into a Correct Format\n",
    "In our Data Frame, we have two cells with the wrong format. Check out row 22 and 26, the 'Date' column should be a string that represents a date:"
   ],
   "cell_type": "markdown",
   "metadata": {}
  },
  {
   "cell_type": "code",
   "execution_count": 13,
   "metadata": {},
   "outputs": [
    {
     "output_type": "stream",
     "name": "stdout",
     "text": [
      "    Duration          Date  Pulse  Maxpulse  Calories\n0         60  '2020/12/01'    110       130     409.1\n1         60  '2020/12/02'    117       145     479.0\n2         60  '2020/12/03'    103       135     340.0\n3         45  '2020/12/04'    109       175     282.4\n4         45  '2020/12/05'    117       148     406.0\n5         60  '2020/12/06'    102       127     300.0\n6         60  '2020/12/07'    110       136     374.0\n7        450  '2020/12/08'    104       134     253.3\n8         30  '2020/12/09'    109       133     195.1\n9         60  '2020/12/10'     98       124     269.0\n10        60  '2020/12/11'    103       147     329.3\n11        60  '2020/12/12'    100       120     250.7\n12        60  '2020/12/12'    100       120     250.7\n13        60  '2020/12/13'    106       128     345.3\n14        60  '2020/12/14'    104       132     379.3\n15        60  '2020/12/15'     98       123     275.0\n16        60  '2020/12/16'     98       120     215.2\n17        60  '2020/12/17'    100       120     300.0\n18        45  '2020/12/18'     90       112       NaN\n19        60  '2020/12/19'    103       123     323.0\n20        45  '2020/12/20'     97       125     243.0\n21        60  '2020/12/21'    108       131     364.2\n22        45           NaN    100       119     282.0\n23        60  '2020/12/23'    130       101     300.0\n24        45  '2020/12/24'    105       132     246.0\n25        60  '2020/12/25'    102       126     334.5\n26        60      20201226    100       120     250.0\n27        60  '2020/12/27'     92       118     241.0\n28        60  '2020/12/28'    103       132       NaN\n29        60  '2020/12/29'    100       132     280.0\n30        60  '2020/12/30'    102       129     380.3\n31        60  '2020/12/31'     92       115     243.0\n"
     ]
    }
   ],
   "source": [
    "df = pd.read_csv('dirtydata.csv')\n",
    "\n",
    "print(df.to_string())"
   ]
  },
  {
   "source": [
    "Let's try to convert all cells in the 'Date' column into dates.\n",
    "\n",
    "Pandas has a to_datetime() method for this:"
   ],
   "cell_type": "markdown",
   "metadata": {}
  },
  {
   "cell_type": "code",
   "execution_count": 14,
   "metadata": {},
   "outputs": [
    {
     "output_type": "stream",
     "name": "stdout",
     "text": [
      "    Duration       Date  Pulse  Maxpulse  Calories\n0         60 2020-12-01    110       130     409.1\n1         60 2020-12-02    117       145     479.0\n2         60 2020-12-03    103       135     340.0\n3         45 2020-12-04    109       175     282.4\n4         45 2020-12-05    117       148     406.0\n5         60 2020-12-06    102       127     300.0\n6         60 2020-12-07    110       136     374.0\n7        450 2020-12-08    104       134     253.3\n8         30 2020-12-09    109       133     195.1\n9         60 2020-12-10     98       124     269.0\n10        60 2020-12-11    103       147     329.3\n11        60 2020-12-12    100       120     250.7\n12        60 2020-12-12    100       120     250.7\n13        60 2020-12-13    106       128     345.3\n14        60 2020-12-14    104       132     379.3\n15        60 2020-12-15     98       123     275.0\n16        60 2020-12-16     98       120     215.2\n17        60 2020-12-17    100       120     300.0\n18        45 2020-12-18     90       112       NaN\n19        60 2020-12-19    103       123     323.0\n20        45 2020-12-20     97       125     243.0\n21        60 2020-12-21    108       131     364.2\n22        45        NaT    100       119     282.0\n23        60 2020-12-23    130       101     300.0\n24        45 2020-12-24    105       132     246.0\n25        60 2020-12-25    102       126     334.5\n26        60 2020-12-26    100       120     250.0\n27        60 2020-12-27     92       118     241.0\n28        60 2020-12-28    103       132       NaN\n29        60 2020-12-29    100       132     280.0\n30        60 2020-12-30    102       129     380.3\n31        60 2020-12-31     92       115     243.0\n"
     ]
    }
   ],
   "source": [
    "df = pd.read_csv('dirtydata.csv')\n",
    "\n",
    "df['Date'] = pd.to_datetime(df['Date'])\n",
    "\n",
    "print(df.to_string())"
   ]
  },
  {
   "source": [
    "As you can see from the result, the date in row 26 where fixed, but the empty date in row 22 got a NaT (Not a Time) value, in other words an empty value. One way to deal with empty values is simply removing the entire row.\n",
    "\n",
    "## Removing Rows\n",
    "The result from the converting in the example above gave us a NaT value, which can be handled as a NULL value, and we can remove the row by using the dropna() method."
   ],
   "cell_type": "markdown",
   "metadata": {}
  },
  {
   "cell_type": "code",
   "execution_count": 15,
   "metadata": {},
   "outputs": [
    {
     "output_type": "stream",
     "name": "stdout",
     "text": [
      "    Duration       Date  Pulse  Maxpulse  Calories\n0         60 2020-12-01    110       130     409.1\n1         60 2020-12-02    117       145     479.0\n2         60 2020-12-03    103       135     340.0\n3         45 2020-12-04    109       175     282.4\n4         45 2020-12-05    117       148     406.0\n5         60 2020-12-06    102       127     300.0\n6         60 2020-12-07    110       136     374.0\n7        450 2020-12-08    104       134     253.3\n8         30 2020-12-09    109       133     195.1\n9         60 2020-12-10     98       124     269.0\n10        60 2020-12-11    103       147     329.3\n11        60 2020-12-12    100       120     250.7\n12        60 2020-12-12    100       120     250.7\n13        60 2020-12-13    106       128     345.3\n14        60 2020-12-14    104       132     379.3\n15        60 2020-12-15     98       123     275.0\n16        60 2020-12-16     98       120     215.2\n17        60 2020-12-17    100       120     300.0\n18        45 2020-12-18     90       112       NaN\n19        60 2020-12-19    103       123     323.0\n20        45 2020-12-20     97       125     243.0\n21        60 2020-12-21    108       131     364.2\n23        60 2020-12-23    130       101     300.0\n24        45 2020-12-24    105       132     246.0\n25        60 2020-12-25    102       126     334.5\n26        60 2020-12-26    100       120     250.0\n27        60 2020-12-27     92       118     241.0\n28        60 2020-12-28    103       132       NaN\n29        60 2020-12-29    100       132     280.0\n30        60 2020-12-30    102       129     380.3\n31        60 2020-12-31     92       115     243.0\n"
     ]
    }
   ],
   "source": [
    "df.dropna(subset=['Date'], inplace = True)\n",
    "\n",
    "print(df.to_string())"
   ]
  },
  {
   "source": [
    "## Wrong Data\n",
    "\"Wrong data\" does not have to be \"empty cells\" or \"wrong format\", it can just be wrong, like if someone registered \"199\" instead of \"1.99\".\n",
    "\n",
    "Sometimes you can spot wrong data by looking at the data set, because you have an expectation of what it should be.\n",
    "\n",
    "If you take a look at our data set, you can see that in row 7, the duration is 450, but for all the other rows the duration is between 30 and 60.\n",
    "\n",
    "It doesn't have to be wrong, but taking in consideration that this is the data set of someone's workout sessions, we conclude with the fact that this person did not work out in 450 minutes."
   ],
   "cell_type": "markdown",
   "metadata": {}
  },
  {
   "cell_type": "code",
   "execution_count": 18,
   "metadata": {},
   "outputs": [
    {
     "output_type": "stream",
     "name": "stdout",
     "text": [
      "    Duration          Date  Pulse  Maxpulse  Calories\n0         60  '2020/12/01'    110       130     409.1\n1         60  '2020/12/02'    117       145     479.0\n2         60  '2020/12/03'    103       135     340.0\n3         45  '2020/12/04'    109       175     282.4\n4         45  '2020/12/05'    117       148     406.0\n5         60  '2020/12/06'    102       127     300.0\n6         60  '2020/12/07'    110       136     374.0\n7        450  '2020/12/08'    104       134     253.3\n8         30  '2020/12/09'    109       133     195.1\n9         60  '2020/12/10'     98       124     269.0\n10        60  '2020/12/11'    103       147     329.3\n11        60  '2020/12/12'    100       120     250.7\n12        60  '2020/12/12'    100       120     250.7\n13        60  '2020/12/13'    106       128     345.3\n14        60  '2020/12/14'    104       132     379.3\n15        60  '2020/12/15'     98       123     275.0\n16        60  '2020/12/16'     98       120     215.2\n17        60  '2020/12/17'    100       120     300.0\n18        45  '2020/12/18'     90       112       NaN\n19        60  '2020/12/19'    103       123     323.0\n20        45  '2020/12/20'     97       125     243.0\n21        60  '2020/12/21'    108       131     364.2\n22        45           NaN    100       119     282.0\n23        60  '2020/12/23'    130       101     300.0\n24        45  '2020/12/24'    105       132     246.0\n25        60  '2020/12/25'    102       126     334.5\n26        60      20201226    100       120     250.0\n27        60  '2020/12/27'     92       118     241.0\n28        60  '2020/12/28'    103       132       NaN\n29        60  '2020/12/29'    100       132     280.0\n30        60  '2020/12/30'    102       129     380.3\n31        60  '2020/12/31'     92       115     243.0\n"
     ]
    }
   ],
   "source": [
    "df = pd.read_csv(\"dirtydata.csv\")\n",
    "\n",
    "print(df.to_string())"
   ]
  },
  {
   "source": [
    "How can we fix wrong values, like the one for \"Duration\" in row 7?\n",
    "\n",
    "## Replacing Values\n",
    "One way to fix wrong values is to replace them with something else.\n",
    "\n",
    "In our example, it is most likely a typo, and the value should be \"45\" instead of \"450\", and we could just insert \"45\" in row 7:"
   ],
   "cell_type": "markdown",
   "metadata": {}
  },
  {
   "cell_type": "code",
   "execution_count": 19,
   "metadata": {},
   "outputs": [
    {
     "output_type": "stream",
     "name": "stdout",
     "text": [
      "    Duration          Date  Pulse  Maxpulse  Calories\n0         60  '2020/12/01'    110       130     409.1\n1         60  '2020/12/02'    117       145     479.0\n2         60  '2020/12/03'    103       135     340.0\n3         45  '2020/12/04'    109       175     282.4\n4         45  '2020/12/05'    117       148     406.0\n5         60  '2020/12/06'    102       127     300.0\n6         60  '2020/12/07'    110       136     374.0\n7         45  '2020/12/08'    104       134     253.3\n8         30  '2020/12/09'    109       133     195.1\n9         60  '2020/12/10'     98       124     269.0\n10        60  '2020/12/11'    103       147     329.3\n11        60  '2020/12/12'    100       120     250.7\n12        60  '2020/12/12'    100       120     250.7\n13        60  '2020/12/13'    106       128     345.3\n14        60  '2020/12/14'    104       132     379.3\n15        60  '2020/12/15'     98       123     275.0\n16        60  '2020/12/16'     98       120     215.2\n17        60  '2020/12/17'    100       120     300.0\n18        45  '2020/12/18'     90       112       NaN\n19        60  '2020/12/19'    103       123     323.0\n20        45  '2020/12/20'     97       125     243.0\n21        60  '2020/12/21'    108       131     364.2\n22        45           NaN    100       119     282.0\n23        60  '2020/12/23'    130       101     300.0\n24        45  '2020/12/24'    105       132     246.0\n25        60  '2020/12/25'    102       126     334.5\n26        60      20201226    100       120     250.0\n27        60  '2020/12/27'     92       118     241.0\n28        60  '2020/12/28'    103       132       NaN\n29        60  '2020/12/29'    100       132     280.0\n30        60  '2020/12/30'    102       129     380.3\n31        60  '2020/12/31'     92       115     243.0\n"
     ]
    }
   ],
   "source": [
    "df.loc[7, 'Duration'] = 45\n",
    "\n",
    "print(df.to_string())"
   ]
  },
  {
   "source": [
    "For small data sets you might be able to replace the wrong data one by one, but not for big data sets.\n",
    "\n",
    "To replace wrong data for larger data sets you can create some rules, e.g. set some boundaries for legal values, and replace any values that are outside of the boundaries."
   ],
   "cell_type": "markdown",
   "metadata": {}
  },
  {
   "cell_type": "code",
   "execution_count": 21,
   "metadata": {},
   "outputs": [
    {
     "output_type": "stream",
     "name": "stdout",
     "text": [
      "    Duration          Date  Pulse  Maxpulse  Calories\n0         60  '2020/12/01'    110       130     409.1\n1         60  '2020/12/02'    117       145     479.0\n2         60  '2020/12/03'    103       135     340.0\n3         45  '2020/12/04'    109       175     282.4\n4         45  '2020/12/05'    117       148     406.0\n5         60  '2020/12/06'    102       127     300.0\n6         60  '2020/12/07'    110       136     374.0\n7         45  '2020/12/08'    104       134     253.3\n8         30  '2020/12/09'    109       133     195.1\n9         60  '2020/12/10'     98       124     269.0\n10        60  '2020/12/11'    103       147     329.3\n11        60  '2020/12/12'    100       120     250.7\n12        60  '2020/12/12'    100       120     250.7\n13        60  '2020/12/13'    106       128     345.3\n14        60  '2020/12/14'    104       132     379.3\n15        60  '2020/12/15'     98       123     275.0\n16        60  '2020/12/16'     98       120     215.2\n17        60  '2020/12/17'    100       120     300.0\n18        45  '2020/12/18'     90       112       NaN\n19        60  '2020/12/19'    103       123     323.0\n20        45  '2020/12/20'     97       125     243.0\n21        60  '2020/12/21'    108       131     364.2\n22        45           NaN    100       119     282.0\n23        60  '2020/12/23'    130       101     300.0\n24        45  '2020/12/24'    105       132     246.0\n25        60  '2020/12/25'    102       126     334.5\n26        60      20201226    100       120     250.0\n27        60  '2020/12/27'     92       118     241.0\n28        60  '2020/12/28'    103       132       NaN\n29        60  '2020/12/29'    100       132     280.0\n30        60  '2020/12/30'    102       129     380.3\n31        60  '2020/12/31'     92       115     243.0\n"
     ]
    }
   ],
   "source": [
    "for x in df.index:\n",
    "  if df.loc[x, \"Duration\"] > 120:\n",
    "    df.drop(x, inplace = True)\n",
    "print(df.to_string())"
   ]
  },
  {
   "source": [
    "## Removing Rows\n",
    "Another way of handling wrong data is to remove the rows that contains wrong data.\n",
    "\n",
    "This way you do not have to find out what to replace them with, and there is a good chance you do not need them to do your analyses."
   ],
   "cell_type": "markdown",
   "metadata": {}
  },
  {
   "cell_type": "code",
   "execution_count": 22,
   "metadata": {},
   "outputs": [
    {
     "output_type": "stream",
     "name": "stdout",
     "text": [
      "    Duration          Date  Pulse  Maxpulse  Calories\n0         60  '2020/12/01'    110       130     409.1\n1         60  '2020/12/02'    117       145     479.0\n2         60  '2020/12/03'    103       135     340.0\n3         45  '2020/12/04'    109       175     282.4\n4         45  '2020/12/05'    117       148     406.0\n5         60  '2020/12/06'    102       127     300.0\n6         60  '2020/12/07'    110       136     374.0\n7         45  '2020/12/08'    104       134     253.3\n8         30  '2020/12/09'    109       133     195.1\n9         60  '2020/12/10'     98       124     269.0\n10        60  '2020/12/11'    103       147     329.3\n11        60  '2020/12/12'    100       120     250.7\n12        60  '2020/12/12'    100       120     250.7\n13        60  '2020/12/13'    106       128     345.3\n14        60  '2020/12/14'    104       132     379.3\n15        60  '2020/12/15'     98       123     275.0\n16        60  '2020/12/16'     98       120     215.2\n17        60  '2020/12/17'    100       120     300.0\n18        45  '2020/12/18'     90       112       NaN\n19        60  '2020/12/19'    103       123     323.0\n20        45  '2020/12/20'     97       125     243.0\n21        60  '2020/12/21'    108       131     364.2\n22        45           NaN    100       119     282.0\n23        60  '2020/12/23'    130       101     300.0\n24        45  '2020/12/24'    105       132     246.0\n25        60  '2020/12/25'    102       126     334.5\n26        60      20201226    100       120     250.0\n27        60  '2020/12/27'     92       118     241.0\n28        60  '2020/12/28'    103       132       NaN\n29        60  '2020/12/29'    100       132     280.0\n30        60  '2020/12/30'    102       129     380.3\n31        60  '2020/12/31'     92       115     243.0\n"
     ]
    }
   ],
   "source": [
    "for x in df.index:\n",
    "  if df.loc[x, \"Duration\"] > 120:\n",
    "    df.drop(x, inplace = True)\n",
    "print(df.to_string())"
   ]
  },
  {
   "source": [
    "## Discovering Duplicates\n",
    "Duplicate rows are rows that have been registered more than one time."
   ],
   "cell_type": "markdown",
   "metadata": {}
  },
  {
   "cell_type": "code",
   "execution_count": 23,
   "metadata": {},
   "outputs": [
    {
     "output_type": "stream",
     "name": "stdout",
     "text": [
      "    Duration          Date  Pulse  Maxpulse  Calories\n0         60  '2020/12/01'    110       130     409.1\n1         60  '2020/12/02'    117       145     479.0\n2         60  '2020/12/03'    103       135     340.0\n3         45  '2020/12/04'    109       175     282.4\n4         45  '2020/12/05'    117       148     406.0\n5         60  '2020/12/06'    102       127     300.0\n6         60  '2020/12/07'    110       136     374.0\n7        450  '2020/12/08'    104       134     253.3\n8         30  '2020/12/09'    109       133     195.1\n9         60  '2020/12/10'     98       124     269.0\n10        60  '2020/12/11'    103       147     329.3\n11        60  '2020/12/12'    100       120     250.7\n12        60  '2020/12/12'    100       120     250.7\n13        60  '2020/12/13'    106       128     345.3\n14        60  '2020/12/14'    104       132     379.3\n15        60  '2020/12/15'     98       123     275.0\n16        60  '2020/12/16'     98       120     215.2\n17        60  '2020/12/17'    100       120     300.0\n18        45  '2020/12/18'     90       112       NaN\n19        60  '2020/12/19'    103       123     323.0\n20        45  '2020/12/20'     97       125     243.0\n21        60  '2020/12/21'    108       131     364.2\n22        45           NaN    100       119     282.0\n23        60  '2020/12/23'    130       101     300.0\n24        45  '2020/12/24'    105       132     246.0\n25        60  '2020/12/25'    102       126     334.5\n26        60      20201226    100       120     250.0\n27        60  '2020/12/27'     92       118     241.0\n28        60  '2020/12/28'    103       132       NaN\n29        60  '2020/12/29'    100       132     280.0\n30        60  '2020/12/30'    102       129     380.3\n31        60  '2020/12/31'     92       115     243.0\n"
     ]
    }
   ],
   "source": [
    "df = pd.read_csv(\"dirtydata.csv\")\n",
    "\n",
    "print(df.to_string())"
   ]
  },
  {
   "source": [
    "By taking a look at our test data set, we can assume that row 11 and 12 are duplicates.\n",
    "\n",
    "To discover duplicates, we can use the duplicated() method.\n",
    "\n",
    "The duplicated() method returns a Boolean values for each row:"
   ],
   "cell_type": "markdown",
   "metadata": {}
  },
  {
   "cell_type": "code",
   "execution_count": 24,
   "metadata": {},
   "outputs": [
    {
     "output_type": "stream",
     "name": "stdout",
     "text": [
      "0     False\n1     False\n2     False\n3     False\n4     False\n5     False\n6     False\n7     False\n8     False\n9     False\n10    False\n11    False\n12     True\n13    False\n14    False\n15    False\n16    False\n17    False\n18    False\n19    False\n20    False\n21    False\n22    False\n23    False\n24    False\n25    False\n26    False\n27    False\n28    False\n29    False\n30    False\n31    False\ndtype: bool\n"
     ]
    }
   ],
   "source": [
    "print(df.duplicated())"
   ]
  },
  {
   "source": [
    "## Removing Duplicates\n",
    "To remove duplicates, use the drop_duplicates() method."
   ],
   "cell_type": "markdown",
   "metadata": {}
  },
  {
   "cell_type": "code",
   "execution_count": 25,
   "metadata": {},
   "outputs": [
    {
     "output_type": "stream",
     "name": "stdout",
     "text": [
      "    Duration          Date  Pulse  Maxpulse  Calories\n0         60  '2020/12/01'    110       130     409.1\n1         60  '2020/12/02'    117       145     479.0\n2         60  '2020/12/03'    103       135     340.0\n3         45  '2020/12/04'    109       175     282.4\n4         45  '2020/12/05'    117       148     406.0\n5         60  '2020/12/06'    102       127     300.0\n6         60  '2020/12/07'    110       136     374.0\n7        450  '2020/12/08'    104       134     253.3\n8         30  '2020/12/09'    109       133     195.1\n9         60  '2020/12/10'     98       124     269.0\n10        60  '2020/12/11'    103       147     329.3\n11        60  '2020/12/12'    100       120     250.7\n13        60  '2020/12/13'    106       128     345.3\n14        60  '2020/12/14'    104       132     379.3\n15        60  '2020/12/15'     98       123     275.0\n16        60  '2020/12/16'     98       120     215.2\n17        60  '2020/12/17'    100       120     300.0\n18        45  '2020/12/18'     90       112       NaN\n19        60  '2020/12/19'    103       123     323.0\n20        45  '2020/12/20'     97       125     243.0\n21        60  '2020/12/21'    108       131     364.2\n22        45           NaN    100       119     282.0\n23        60  '2020/12/23'    130       101     300.0\n24        45  '2020/12/24'    105       132     246.0\n25        60  '2020/12/25'    102       126     334.5\n26        60      20201226    100       120     250.0\n27        60  '2020/12/27'     92       118     241.0\n28        60  '2020/12/28'    103       132       NaN\n29        60  '2020/12/29'    100       132     280.0\n30        60  '2020/12/30'    102       129     380.3\n31        60  '2020/12/31'     92       115     243.0\n"
     ]
    }
   ],
   "source": [
    "df.drop_duplicates(inplace = True)\n",
    "\n",
    "print(df.to_string())"
   ]
  },
  {
   "source": [
    "### Remember: The (inplace = True) will make sure that the method does NOT return a new DataFrame, but it will remove all duplicates from the original DataFrame."
   ],
   "cell_type": "markdown",
   "metadata": {}
  }
 ]
}