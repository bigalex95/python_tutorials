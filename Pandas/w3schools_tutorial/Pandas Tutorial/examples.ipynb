{
 "metadata": {
  "language_info": {
   "codemirror_mode": {
    "name": "ipython",
    "version": 3
   },
   "file_extension": ".py",
   "mimetype": "text/x-python",
   "name": "python",
   "nbconvert_exporter": "python",
   "pygments_lexer": "ipython3",
   "version": "3.6.9"
  },
  "orig_nbformat": 2,
  "kernelspec": {
   "name": "python369jvsc74a57bd0b9e1d6b1e0523e89dceab8d940b4cb98159ed31352040023f59e1d0f208a8d1b",
   "display_name": "Python 3.6.9 64-bit ('venv': venv)"
  },
  "metadata": {
   "interpreter": {
    "hash": "b9e1d6b1e0523e89dceab8d940b4cb98159ed31352040023f59e1d0f208a8d1b"
   }
  }
 },
 "nbformat": 4,
 "nbformat_minor": 2,
 "cells": [
  {
   "cell_type": "code",
   "execution_count": 1,
   "metadata": {},
   "outputs": [
    {
     "output_type": "stream",
     "name": "stdout",
     "text": [
      "VIRTUAL_ENV=/media/bigalex95pc/Extra Space/git/python_tutorials/Pandas/venv\n"
     ]
    }
   ],
   "source": [
    "!env | grep VIRTUAL_ENV"
   ]
  },
  {
   "cell_type": "code",
   "execution_count": 2,
   "metadata": {},
   "outputs": [],
   "source": [
    "import pandas as pd"
   ]
  },
  {
   "cell_type": "code",
   "execution_count": 3,
   "metadata": {},
   "outputs": [
    {
     "output_type": "stream",
     "name": "stdout",
     "text": [
      "1.1.5\n"
     ]
    }
   ],
   "source": [
    "print(pd.__version__)"
   ]
  },
  {
   "source": [
    "# What is a Series?\n",
    "\n",
    "A Pandas Series is like a column in a table.\n",
    "\n",
    "It is a one-dimensional array holding data of any type."
   ],
   "cell_type": "markdown",
   "metadata": {}
  },
  {
   "cell_type": "code",
   "execution_count": 4,
   "metadata": {},
   "outputs": [
    {
     "output_type": "stream",
     "name": "stdout",
     "text": [
      "0    1\n1    7\n2    2\ndtype: int64\n"
     ]
    }
   ],
   "source": [
    "a = [1, 7, 2]\n",
    "\n",
    "myvar = pd.Series(a)\n",
    "\n",
    "print(myvar)"
   ]
  },
  {
   "source": [
    "## Labels\n",
    "If nothing else is specified, the values are labeled with their index number. First value has index 0, second value has index 1 etc.\n",
    "\n",
    "This label can be used to access a specified value."
   ],
   "cell_type": "markdown",
   "metadata": {}
  },
  {
   "cell_type": "code",
   "execution_count": 5,
   "metadata": {},
   "outputs": [
    {
     "output_type": "stream",
     "name": "stdout",
     "text": [
      "1\n"
     ]
    }
   ],
   "source": [
    "print(myvar[0])"
   ]
  },
  {
   "source": [
    "## Create Labels\n",
    "With the index argument, you can name your own labels."
   ],
   "cell_type": "markdown",
   "metadata": {}
  },
  {
   "cell_type": "code",
   "execution_count": 6,
   "metadata": {},
   "outputs": [
    {
     "output_type": "stream",
     "name": "stdout",
     "text": [
      "x    1\ny    7\nz    2\ndtype: int64\n"
     ]
    }
   ],
   "source": [
    "a = [1, 7, 2]\n",
    "\n",
    "myvar = pd.Series(a, index = [\"x\", \"y\", \"z\"])\n",
    "\n",
    "print(myvar)"
   ]
  },
  {
   "source": [
    "When you have created labels, you can access an item by referring to the label."
   ],
   "cell_type": "markdown",
   "metadata": {}
  },
  {
   "cell_type": "code",
   "execution_count": 7,
   "metadata": {},
   "outputs": [
    {
     "output_type": "stream",
     "name": "stdout",
     "text": [
      "7\n"
     ]
    }
   ],
   "source": [
    "print(myvar[\"y\"])"
   ]
  },
  {
   "source": [
    "## Key/Value Objects as Series\n",
    "You can also use a key/value object, like a dictionary, when creating a Series."
   ],
   "cell_type": "markdown",
   "metadata": {}
  },
  {
   "cell_type": "code",
   "execution_count": 8,
   "metadata": {},
   "outputs": [
    {
     "output_type": "stream",
     "name": "stdout",
     "text": [
      "day1    420\nday2    380\nday3    390\ndtype: int64\n"
     ]
    }
   ],
   "source": [
    "calories = {\"day1\": 420, \"day2\": 380, \"day3\": 390}\n",
    "\n",
    "myvar = pd.Series(calories)\n",
    "\n",
    "print(myvar)"
   ]
  },
  {
   "source": [
    "### Note: The keys of the dictionary become the labels.\n",
    "\n",
    "To select only some of the items in the dictionary, use the index argument and specify only the items you want to include in the Series."
   ],
   "cell_type": "markdown",
   "metadata": {}
  },
  {
   "cell_type": "code",
   "execution_count": 9,
   "metadata": {},
   "outputs": [
    {
     "output_type": "stream",
     "name": "stdout",
     "text": [
      "day1    420\nday2    380\ndtype: int64\n"
     ]
    }
   ],
   "source": [
    "calories = {\"day1\": 420, \"day2\": 380, \"day3\": 390}\n",
    "\n",
    "myvar = pd.Series(calories, index = [\"day1\", \"day2\"])\n",
    "\n",
    "print(myvar)"
   ]
  },
  {
   "source": [
    "## DataFrames\n",
    "Data sets in Pandas are usually multi-dimensional tables, called DataFrames.\n",
    "\n",
    "Series is like a column, a DataFrame is the whole table."
   ],
   "cell_type": "markdown",
   "metadata": {}
  },
  {
   "cell_type": "code",
   "execution_count": 10,
   "metadata": {},
   "outputs": [
    {
     "output_type": "stream",
     "name": "stdout",
     "text": [
      "   calories  duration\n0       420        50\n1       380        40\n2       390        45\n"
     ]
    }
   ],
   "source": [
    "data = {\n",
    "  \"calories\": [420, 380, 390],\n",
    "  \"duration\": [50, 40, 45]\n",
    "}\n",
    "\n",
    "myvar = pd.DataFrame(data)\n",
    "\n",
    "print(myvar)"
   ]
  },
  {
   "source": [
    "# What is a DataFrame?\n",
    "A Pandas DataFrame is a 2 dimensional data structure, like a 2 dimensional array, or a table with rows and columns."
   ],
   "cell_type": "markdown",
   "metadata": {}
  },
  {
   "cell_type": "code",
   "execution_count": 11,
   "metadata": {},
   "outputs": [
    {
     "output_type": "stream",
     "name": "stdout",
     "text": [
      "   calories  duration\n0       420        50\n1       380        40\n2       390        45\n"
     ]
    }
   ],
   "source": [
    "data = {\n",
    "  \"calories\": [420, 380, 390],\n",
    "  \"duration\": [50, 40, 45]\n",
    "}\n",
    "\n",
    "#load data into a DataFrame object:\n",
    "df = pd.DataFrame(data)\n",
    "\n",
    "print(df) "
   ]
  },
  {
   "source": [
    "## Locate Row\n",
    "As you can see from the result above, the DataFrame is like a table with rows and columns.\n",
    "\n",
    "Pandas use the loc attribute to return one or more specified row(s)"
   ],
   "cell_type": "markdown",
   "metadata": {}
  },
  {
   "cell_type": "code",
   "execution_count": 12,
   "metadata": {},
   "outputs": [
    {
     "output_type": "stream",
     "name": "stdout",
     "text": [
      "calories    420\nduration     50\nName: 0, dtype: int64\n"
     ]
    }
   ],
   "source": [
    "#refer to the row index:\n",
    "print(df.loc[0])"
   ]
  },
  {
   "source": [
    "### Note: This example returns a Pandas Series."
   ],
   "cell_type": "markdown",
   "metadata": {}
  },
  {
   "cell_type": "code",
   "execution_count": 13,
   "metadata": {},
   "outputs": [
    {
     "output_type": "stream",
     "name": "stdout",
     "text": [
      "   calories  duration\n0       420        50\n1       380        40\n"
     ]
    }
   ],
   "source": [
    "#use a list of indexes:\n",
    "print(df.loc[[0, 1]])"
   ]
  },
  {
   "source": [
    "### Note: When using [], the result is a Pandas DataFrame.\n",
    "\n",
    "## Named Indexes\n",
    "With the index argument, you can name your own indexes."
   ],
   "cell_type": "markdown",
   "metadata": {}
  },
  {
   "cell_type": "code",
   "execution_count": 14,
   "metadata": {},
   "outputs": [
    {
     "output_type": "stream",
     "name": "stdout",
     "text": [
      "      calories  duration\nday1       420        50\nday2       380        40\nday3       390        45\n"
     ]
    }
   ],
   "source": [
    "data = {\n",
    "  \"calories\": [420, 380, 390],\n",
    "  \"duration\": [50, 40, 45]\n",
    "}\n",
    "\n",
    "df = pd.DataFrame(data, index = [\"day1\", \"day2\", \"day3\"])\n",
    "\n",
    "print(df) "
   ]
  },
  {
   "source": [
    "## Locate Named Indexes\n",
    "Use the named index in the loc attribute to return the specified row(s)."
   ],
   "cell_type": "markdown",
   "metadata": {}
  },
  {
   "cell_type": "code",
   "execution_count": 15,
   "metadata": {},
   "outputs": [
    {
     "output_type": "stream",
     "name": "stdout",
     "text": [
      "calories    380\nduration     40\nName: day2, dtype: int64\n"
     ]
    }
   ],
   "source": [
    "#refer to the named index:\n",
    "print(df.loc[\"day2\"])"
   ]
  },
  {
   "source": [
    "## Load Files Into a DataFrame\n",
    "If your data sets are stored in a file, Pandas can load them into a DataFrame."
   ],
   "cell_type": "markdown",
   "metadata": {}
  },
  {
   "cell_type": "code",
   "execution_count": 18,
   "metadata": {},
   "outputs": [
    {
     "output_type": "stream",
     "name": "stdout",
     "text": [
      "     Duration  Pulse  Maxpulse  Calories\n0          60    110       130     409.1\n1          60    117       145     479.0\n2          60    103       135     340.0\n3          45    109       175     282.4\n4          45    117       148     406.0\n..        ...    ...       ...       ...\n164        60    105       140     290.8\n165        60    110       145     300.0\n166        60    115       145     310.2\n167        75    120       150     320.4\n168        75    125       150     330.4\n\n[169 rows x 4 columns]\n"
     ]
    }
   ],
   "source": [
    "df = pd.read_csv('data.csv')\n",
    "\n",
    "print(df) "
   ]
  },
  {
   "source": [
    "# Read CSV Files\n",
    "A simple way to store big data sets is to use CSV files (comma separated files).\n",
    "\n",
    "CSV files contains plain text and is a well know format that can be read by everyone including Pandas.\n",
    "\n",
    "In our examples we will be using a CSV file called 'data.csv'.\n",
    "\n",
    "[Download data.csv](https://www.w3schools.com/python/pandas/data.csv)"
   ],
   "cell_type": "markdown",
   "metadata": {}
  },
  {
   "cell_type": "code",
   "execution_count": 19,
   "metadata": {},
   "outputs": [
    {
     "output_type": "stream",
     "name": "stdout",
     "text": [
      "     Duration  Pulse  Maxpulse  Calories\n0          60    110       130     409.1\n1          60    117       145     479.0\n2          60    103       135     340.0\n3          45    109       175     282.4\n4          45    117       148     406.0\n5          60    102       127     300.0\n6          60    110       136     374.0\n7          45    104       134     253.3\n8          30    109       133     195.1\n9          60     98       124     269.0\n10         60    103       147     329.3\n11         60    100       120     250.7\n12         60    106       128     345.3\n13         60    104       132     379.3\n14         60     98       123     275.0\n15         60     98       120     215.2\n16         60    100       120     300.0\n17         45     90       112       NaN\n18         60    103       123     323.0\n19         45     97       125     243.0\n20         60    108       131     364.2\n21         45    100       119     282.0\n22         60    130       101     300.0\n23         45    105       132     246.0\n24         60    102       126     334.5\n25         60    100       120     250.0\n26         60     92       118     241.0\n27         60    103       132       NaN\n28         60    100       132     280.0\n29         60    102       129     380.3\n30         60     92       115     243.0\n31         45     90       112     180.1\n32         60    101       124     299.0\n33         60     93       113     223.0\n34         60    107       136     361.0\n35         60    114       140     415.0\n36         60    102       127     300.0\n37         60    100       120     300.0\n38         60    100       120     300.0\n39         45    104       129     266.0\n40         45     90       112     180.1\n41         60     98       126     286.0\n42         60    100       122     329.4\n43         60    111       138     400.0\n44         60    111       131     397.0\n45         60     99       119     273.0\n46         60    109       153     387.6\n47         45    111       136     300.0\n48         45    108       129     298.0\n49         60    111       139     397.6\n50         60    107       136     380.2\n51         80    123       146     643.1\n52         60    106       130     263.0\n53         60    118       151     486.0\n54         30    136       175     238.0\n55         60    121       146     450.7\n56         60    118       121     413.0\n57         45    115       144     305.0\n58         20    153       172     226.4\n59         45    123       152     321.0\n60        210    108       160    1376.0\n61        160    110       137    1034.4\n62        160    109       135     853.0\n63         45    118       141     341.0\n64         20    110       130     131.4\n65        180     90       130     800.4\n66        150    105       135     873.4\n67        150    107       130     816.0\n68         20    106       136     110.4\n69        300    108       143    1500.2\n70        150     97       129    1115.0\n71         60    109       153     387.6\n72         90    100       127     700.0\n73        150     97       127     953.2\n74         45    114       146     304.0\n75         90     98       125     563.2\n76         45    105       134     251.0\n77         45    110       141     300.0\n78        120    100       130     500.4\n79        270    100       131    1729.0\n80         30    159       182     319.2\n81         45    149       169     344.0\n82         30    103       139     151.1\n83        120    100       130     500.0\n84         45    100       120     225.3\n85         30    151       170     300.0\n86         45    102       136     234.0\n87        120    100       157    1000.1\n88         45    129       103     242.0\n89         20     83       107      50.3\n90        180    101       127     600.1\n91         45    107       137       NaN\n92         30     90       107     105.3\n93         15     80       100      50.5\n94         20    150       171     127.4\n95         20    151       168     229.4\n96         30     95       128     128.2\n97         25    152       168     244.2\n98         30    109       131     188.2\n99         90     93       124     604.1\n100        20     95       112      77.7\n101        90     90       110     500.0\n102        90     90       100     500.0\n103        90     90       100     500.4\n104        30     92       108      92.7\n105        30     93       128     124.0\n106       180     90       120     800.3\n107        30     90       120      86.2\n108        90     90       120     500.3\n109       210    137       184    1860.4\n110        60    102       124     325.2\n111        45    107       124     275.0\n112        15    124       139     124.2\n113        45    100       120     225.3\n114        60    108       131     367.6\n115        60    108       151     351.7\n116        60    116       141     443.0\n117        60     97       122     277.4\n118        60    105       125       NaN\n119        60    103       124     332.7\n120        30    112       137     193.9\n121        45    100       120     100.7\n122        60    119       169     336.7\n123        60    107       127     344.9\n124        60    111       151     368.5\n125        60     98       122     271.0\n126        60     97       124     275.3\n127        60    109       127     382.0\n128        90     99       125     466.4\n129        60    114       151     384.0\n130        60    104       134     342.5\n131        60    107       138     357.5\n132        60    103       133     335.0\n133        60    106       132     327.5\n134        60    103       136     339.0\n135        20    136       156     189.0\n136        45    117       143     317.7\n137        45    115       137     318.0\n138        45    113       138     308.0\n139        20    141       162     222.4\n140        60    108       135     390.0\n141        60     97       127       NaN\n142        45    100       120     250.4\n143        45    122       149     335.4\n144        60    136       170     470.2\n145        45    106       126     270.8\n146        60    107       136     400.0\n147        60    112       146     361.9\n148        30    103       127     185.0\n149        60    110       150     409.4\n150        60    106       134     343.0\n151        60    109       129     353.2\n152        60    109       138     374.0\n153        30    150       167     275.8\n154        60    105       128     328.0\n155        60    111       151     368.5\n156        60     97       131     270.4\n157        60    100       120     270.4\n158        60    114       150     382.8\n159        30     80       120     240.9\n160        30     85       120     250.4\n161        45     90       130     260.4\n162        45     95       130     270.0\n163        45    100       140     280.9\n164        60    105       140     290.8\n165        60    110       145     300.0\n166        60    115       145     310.2\n167        75    120       150     320.4\n168        75    125       150     330.4\n"
     ]
    }
   ],
   "source": [
    "df = pd.read_csv('data.csv')\n",
    "\n",
    "print(df.to_string()) "
   ]
  },
  {
   "source": [
    "### Tip: use to_string() to print the entire DataFrame.\n",
    "By default, when you print a DataFrame, you will only get the first 5 rows, and the last 5 rows:"
   ],
   "cell_type": "markdown",
   "metadata": {}
  },
  {
   "cell_type": "code",
   "execution_count": 20,
   "metadata": {},
   "outputs": [
    {
     "output_type": "stream",
     "name": "stdout",
     "text": [
      "     Duration  Pulse  Maxpulse  Calories\n0          60    110       130     409.1\n1          60    117       145     479.0\n2          60    103       135     340.0\n3          45    109       175     282.4\n4          45    117       148     406.0\n..        ...    ...       ...       ...\n164        60    105       140     290.8\n165        60    110       145     300.0\n166        60    115       145     310.2\n167        75    120       150     320.4\n168        75    125       150     330.4\n\n[169 rows x 4 columns]\n"
     ]
    }
   ],
   "source": [
    "df = pd.read_csv('data.csv')\n",
    "\n",
    "print(df) "
   ]
  },
  {
   "source": [
    "# Read JSON\n",
    "Big data sets are often stored, or extracted as JSON.\n",
    "\n",
    "JSON is plain text, but has the format of an object, and is well known in the world of programming, including Pandas.\n",
    "\n",
    "In our examples we will be using a JSON file called 'data.json'.\n",
    "\n",
    "[Open data.json](https://www.w3schools.com/python/pandas/data.js)."
   ],
   "cell_type": "markdown",
   "metadata": {}
  },
  {
   "cell_type": "code",
   "execution_count": 22,
   "metadata": {},
   "outputs": [
    {
     "output_type": "stream",
     "name": "stdout",
     "text": [
      "     Duration  Pulse  Maxpulse  Calories\n0          60    110       130     409.1\n1          60    117       145     479.0\n2          60    103       135     340.0\n3          45    109       175     282.4\n4          45    117       148     406.0\n5          60    102       127     300.5\n6          60    110       136     374.0\n7          45    104       134     253.3\n8          30    109       133     195.1\n9          60     98       124     269.0\n10         60    103       147     329.3\n11         60    100       120     250.7\n12         60    106       128     345.3\n13         60    104       132     379.3\n14         60     98       123     275.0\n15         60     98       120     215.2\n16         60    100       120     300.0\n17         45     90       112       NaN\n18         60    103       123     323.0\n19         45     97       125     243.0\n20         60    108       131     364.2\n21         45    100       119     282.0\n22         60    130       101     300.0\n23         45    105       132     246.0\n24         60    102       126     334.5\n25         60    100       120     250.0\n26         60     92       118     241.0\n27         60    103       132       NaN\n28         60    100       132     280.0\n29         60    102       129     380.3\n30         60     92       115     243.0\n31         45     90       112     180.1\n32         60    101       124     299.0\n33         60     93       113     223.0\n34         60    107       136     361.0\n35         60    114       140     415.0\n36         60    102       127     300.5\n37         60    100       120     300.1\n38         60    100       120     300.0\n39         45    104       129     266.0\n40         45     90       112     180.1\n41         60     98       126     286.0\n42         60    100       122     329.4\n43         60    111       138     400.0\n44         60    111       131     397.0\n45         60     99       119     273.0\n46         60    109       153     387.6\n47         45    111       136     300.0\n48         45    108       129     298.0\n49         60    111       139     397.6\n50         60    107       136     380.2\n51         80    123       146     643.1\n52         60    106       130     263.0\n53         60    118       151     486.0\n54         30    136       175     238.0\n55         60    121       146     450.7\n56         60    118       121     413.0\n57         45    115       144     305.0\n58         20    153       172     226.4\n59         45    123       152     321.0\n60        210    108       160    1376.0\n61        160    110       137    1034.4\n62        160    109       135     853.0\n63         45    118       141     341.0\n64         20    110       130     131.4\n65        180     90       130     800.4\n66        150    105       135     873.4\n67        150    107       130     816.0\n68         20    106       136     110.4\n69        300    108       143    1500.2\n70        150     97       129    1115.0\n71         60    109       153     387.6\n72         90    100       127     700.0\n73        150     97       127     953.2\n74         45    114       146     304.0\n75         90     98       125     563.2\n76         45    105       134     251.0\n77         45    110       141     300.0\n78        120    100       130     500.4\n79        270    100       131    1729.0\n80         30    159       182     319.2\n81         45    149       169     344.0\n82         30    103       139     151.1\n83        120    100       130     500.0\n84         45    100       120     225.3\n85         30    151       170     300.1\n86         45    102       136     234.0\n87        120    100       157    1000.1\n88         45    129       103     242.0\n89         20     83       107      50.3\n90        180    101       127     600.1\n91         45    107       137       NaN\n92         30     90       107     105.3\n93         15     80       100      50.5\n94         20    150       171     127.4\n95         20    151       168     229.4\n96         30     95       128     128.2\n97         25    152       168     244.2\n98         30    109       131     188.2\n99         90     93       124     604.1\n100        20     95       112      77.7\n101        90     90       110     500.0\n102        90     90       100     500.0\n103        90     90       100     500.4\n104        30     92       108      92.7\n105        30     93       128     124.0\n106       180     90       120     800.3\n107        30     90       120      86.2\n108        90     90       120     500.3\n109       210    137       184    1860.4\n110        60    102       124     325.2\n111        45    107       124     275.0\n112        15    124       139     124.2\n113        45    100       120     225.3\n114        60    108       131     367.6\n115        60    108       151     351.7\n116        60    116       141     443.0\n117        60     97       122     277.4\n118        60    105       125       NaN\n119        60    103       124     332.7\n120        30    112       137     193.9\n121        45    100       120     100.7\n122        60    119       169     336.7\n123        60    107       127     344.9\n124        60    111       151     368.5\n125        60     98       122     271.0\n126        60     97       124     275.3\n127        60    109       127     382.0\n128        90     99       125     466.4\n129        60    114       151     384.0\n130        60    104       134     342.5\n131        60    107       138     357.5\n132        60    103       133     335.0\n133        60    106       132     327.5\n134        60    103       136     339.0\n135        20    136       156     189.0\n136        45    117       143     317.7\n137        45    115       137     318.0\n138        45    113       138     308.0\n139        20    141       162     222.4\n140        60    108       135     390.0\n141        60     97       127       NaN\n142        45    100       120     250.4\n143        45    122       149     335.4\n144        60    136       170     470.2\n145        45    106       126     270.8\n146        60    107       136     400.0\n147        60    112       146     361.9\n148        30    103       127     185.0\n149        60    110       150     409.4\n150        60    106       134     343.0\n151        60    109       129     353.2\n152        60    109       138     374.0\n153        30    150       167     275.8\n154        60    105       128     328.0\n155        60    111       151     368.5\n156        60     97       131     270.4\n157        60    100       120     270.4\n158        60    114       150     382.8\n159        30     80       120     240.9\n160        30     85       120     250.4\n161        45     90       130     260.4\n162        45     95       130     270.0\n163        45    100       140     280.9\n164        60    105       140     290.8\n165        60    110       145     300.4\n166        60    115       145     310.2\n167        75    120       150     320.4\n168        75    125       150     330.4\n"
     ]
    }
   ],
   "source": [
    "df = pd.read_json('data.json')\n",
    "\n",
    "print(df.to_string()) "
   ]
  },
  {
   "source": [
    "### Tip: use to_string() to print the entire DataFrame.\n",
    "## Dictionary as JSON\n",
    "### JSON = Python Dictionary\n",
    "### JSON objects have the same format as Python dictionaries.\n",
    "\n",
    "If your JSON code is not in a file, but in a Python Dictionary, you can load it into a DataFrame directly:"
   ],
   "cell_type": "markdown",
   "metadata": {}
  },
  {
   "cell_type": "code",
   "execution_count": 24,
   "metadata": {},
   "outputs": [
    {
     "output_type": "stream",
     "name": "stdout",
     "text": [
      "   Duration  Pulse  Maxpulse  Calories\n0        60    110       130       409\n1        60    117       145       479\n2        60    103       135       340\n3        45    109       175       282\n4        45    117       148       406\n5        60    102       127       300\n"
     ]
    }
   ],
   "source": [
    "data = {\n",
    "  \"Duration\":{\n",
    "    \"0\":60,\n",
    "    \"1\":60,\n",
    "    \"2\":60,\n",
    "    \"3\":45,\n",
    "    \"4\":45,\n",
    "    \"5\":60\n",
    "  },\n",
    "  \"Pulse\":{\n",
    "    \"0\":110,\n",
    "    \"1\":117,\n",
    "    \"2\":103,\n",
    "    \"3\":109,\n",
    "    \"4\":117,\n",
    "    \"5\":102\n",
    "  },\n",
    "  \"Maxpulse\":{\n",
    "    \"0\":130,\n",
    "    \"1\":145,\n",
    "    \"2\":135,\n",
    "    \"3\":175,\n",
    "    \"4\":148,\n",
    "    \"5\":127\n",
    "  },\n",
    "  \"Calories\":{\n",
    "    \"0\":409,\n",
    "    \"1\":479,\n",
    "    \"2\":340,\n",
    "    \"3\":282,\n",
    "    \"4\":406,\n",
    "    \"5\":300\n",
    "  }\n",
    "}\n",
    "\n",
    "df = pd.DataFrame(data)\n",
    "\n",
    "print(df) "
   ]
  },
  {
   "source": [
    "# Viewing the Data\n",
    "One of the most used method for getting a quick overview of the DataFrame, is the head() method.\n",
    "\n",
    "The head() method returns the headers and a specified number of rows, starting from the top."
   ],
   "cell_type": "markdown",
   "metadata": {}
  },
  {
   "cell_type": "code",
   "execution_count": 25,
   "metadata": {},
   "outputs": [
    {
     "output_type": "stream",
     "name": "stdout",
     "text": [
      "   Duration  Pulse  Maxpulse  Calories\n0        60    110       130     409.1\n1        60    117       145     479.0\n2        60    103       135     340.0\n3        45    109       175     282.4\n4        45    117       148     406.0\n5        60    102       127     300.0\n6        60    110       136     374.0\n7        45    104       134     253.3\n8        30    109       133     195.1\n9        60     98       124     269.0\n"
     ]
    }
   ],
   "source": [
    "df = pd.read_csv('data.csv')\n",
    "\n",
    "print(df.head(10))"
   ]
  },
  {
   "source": [
    "### Note: if the number of rows is not specified, the head() method will return the top 5 rows."
   ],
   "cell_type": "markdown",
   "metadata": {}
  },
  {
   "cell_type": "code",
   "execution_count": 26,
   "metadata": {},
   "outputs": [
    {
     "output_type": "stream",
     "name": "stdout",
     "text": [
      "   Duration  Pulse  Maxpulse  Calories\n0        60    110       130     409.1\n1        60    117       145     479.0\n2        60    103       135     340.0\n3        45    109       175     282.4\n4        45    117       148     406.0\n"
     ]
    }
   ],
   "source": [
    "df = pd.read_csv('data.csv')\n",
    "\n",
    "print(df.head())"
   ]
  },
  {
   "source": [
    "There is also a tail() method for viewing the last rows of the DataFrame.\n",
    "\n",
    "The tail() method returns the headers and a specified number of rows, starting from the bottom."
   ],
   "cell_type": "markdown",
   "metadata": {}
  },
  {
   "cell_type": "code",
   "execution_count": 27,
   "metadata": {},
   "outputs": [
    {
     "output_type": "stream",
     "name": "stdout",
     "text": [
      "     Duration  Pulse  Maxpulse  Calories\n164        60    105       140     290.8\n165        60    110       145     300.0\n166        60    115       145     310.2\n167        75    120       150     320.4\n168        75    125       150     330.4\n"
     ]
    }
   ],
   "source": [
    "print(df.tail()) "
   ]
  },
  {
   "source": [
    "## Info About the Data\n",
    "The DataFrames object has a method called info(), that gives you more information about the data set."
   ],
   "cell_type": "markdown",
   "metadata": {}
  },
  {
   "cell_type": "code",
   "execution_count": 28,
   "metadata": {},
   "outputs": [
    {
     "output_type": "stream",
     "name": "stdout",
     "text": [
      "<class 'pandas.core.frame.DataFrame'>\nRangeIndex: 169 entries, 0 to 168\nData columns (total 4 columns):\n #   Column    Non-Null Count  Dtype  \n---  ------    --------------  -----  \n 0   Duration  169 non-null    int64  \n 1   Pulse     169 non-null    int64  \n 2   Maxpulse  169 non-null    int64  \n 3   Calories  164 non-null    float64\ndtypes: float64(1), int64(3)\nmemory usage: 5.4 KB\nNone\n"
     ]
    }
   ],
   "source": [
    "print(df.info()) "
   ]
  },
  {
   "source": [
    "## Null Values\n",
    "The info() method also tells us how many Non-Null values there are present in each column, and in our data set it seems like there are 164 of 169 Non-Null values in the \"Calories\" column.\n",
    "\n",
    "Which means that there are 5 rows with no value at all, in the \"Calories\" column, for whatever reason.\n",
    "\n",
    "Empty values, or Null values, can be bad when analyzing data, and you should consider removing rows with empty values. This is a step towards what is called cleaning data, and you will learn more about that in the next chapters."
   ],
   "cell_type": "markdown",
   "metadata": {}
  }
 ]
}